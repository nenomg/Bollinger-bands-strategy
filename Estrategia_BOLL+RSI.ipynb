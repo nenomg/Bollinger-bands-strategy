{
  "nbformat": 4,
  "nbformat_minor": 0,
  "metadata": {
    "colab": {
      "name": "Estrategia-BOLL+RSI.ipynb",
      "provenance": [],
      "collapsed_sections": [],
      "mount_file_id": "14mXasaTDvSPnxW4XJ-BuTtNYH78wdveH",
      "authorship_tag": "ABX9TyOL1fWq9JQfkQoOZdnL8o5Q",
      "include_colab_link": true
    },
    "kernelspec": {
      "name": "python3",
      "display_name": "Python 3"
    },
    "language_info": {
      "name": "python"
    }
  },
  "cells": [
    {
      "cell_type": "markdown",
      "metadata": {
        "id": "view-in-github",
        "colab_type": "text"
      },
      "source": [
        "<a href=\"https://colab.research.google.com/github/nenomg/Bollinger-bands-strategy/blob/main/Estrategia_BOLL%2BRSI.ipynb\" target=\"_parent\"><img src=\"https://colab.research.google.com/assets/colab-badge.svg\" alt=\"Open In Colab\"/></a>"
      ]
    },
    {
      "cell_type": "markdown",
      "source": [
        "1. Importación de las librerías"
      ],
      "metadata": {
        "id": "oQrpZJtBH6uC"
      }
    },
    {
      "cell_type": "code",
      "source": [
        "import pandas as pd\n",
        "import numpy as np\n",
        "import matplotlib.pyplot as plt"
      ],
      "metadata": {
        "id": "DMEga_rzIox7"
      },
      "execution_count": null,
      "outputs": []
    },
    {
      "cell_type": "markdown",
      "source": [
        "2. Funciones"
      ],
      "metadata": {
        "id": "N5uvGBkYIqfA"
      }
    },
    {
      "cell_type": "markdown",
      "source": [
        "2.1 Bollinger bands.\n",
        "\n",
        "Devuelve la banda de arriba y la de abajo en base al precio típico ((High + Low + Close)/3)."
      ],
      "metadata": {
        "id": "pIupCYpJJE24"
      }
    },
    {
      "cell_type": "code",
      "source": [
        "def bollingerBands(data, m, n):\n",
        "    res = []\n",
        "    res2 = []\n",
        "    j = 0\n",
        "    for i in range(m, len(data)):\n",
        "        tp = ((data.Close[j:i] + data.High[j:i] + data.Low[j:i]) / 3)\n",
        "        \n",
        "        res.append(np.mean(tp) + n * np.std(tp))\n",
        "        res2.append(np.mean(tp) - n * np.std(tp))\n",
        "        j = j + 1\n",
        "    \n",
        "    return res, res2"
      ],
      "metadata": {
        "id": "52KSbFBMJYN6"
      },
      "execution_count": null,
      "outputs": []
    },
    {
      "cell_type": "markdown",
      "source": [
        "2.2 RSI\n",
        "\n",
        "Calcula el RSI en base a la media movil exponencial o la media movil simple."
      ],
      "metadata": {
        "id": "TGpC7d5dJfMQ"
      }
    },
    {
      "cell_type": "code",
      "source": [
        "def rsi(df, periods = 14, ema = True):\n",
        "    close_delta = df['Close'].diff()\n",
        "\n",
        "    up = close_delta.clip(lower=0)\n",
        "    down = -1 * close_delta.clip(upper=0)\n",
        "    \n",
        "    if ema == True:\n",
        "        ma_up = up.ewm(com = periods - 1, adjust=True, min_periods = periods).mean()\n",
        "        ma_down = down.ewm(com = periods - 1, adjust=True, min_periods = periods).mean()\n",
        "    else:\n",
        "        #Simple moving average\n",
        "        ma_up = up.rolling(window = periods).mean()\n",
        "        ma_down = down.rolling(window = periods).mean()\n",
        "        \n",
        "    rsi = ma_up / ma_down\n",
        "    rsi = 100 - (100/(1 + rsi))\n",
        "    return rsi"
      ],
      "metadata": {
        "id": "XvbxPipaJl8x"
      },
      "execution_count": null,
      "outputs": []
    },
    {
      "cell_type": "markdown",
      "source": [
        "3. Leemos el dataset de BTC"
      ],
      "metadata": {
        "id": "Bc6kHRjgJyDm"
      }
    },
    {
      "cell_type": "code",
      "source": [
        "data = pd.read_csv(\"/content/drive/MyDrive/Colab Notebooks/Estrategia/BTCEUR_4HOUR.csv\",low_memory=False, names = [\"Date\",\"Open\",\"High\", \"Low\", \"Close\", \"Vol\",\"quote_asset_volume\", \"num_trades\", \"taker_buy_base_asset_volume\", \"taker_buy_quote_asset_volume\"]);\n",
        "data = data[1::]\n",
        "data = data.reset_index(drop=True)\n",
        "data.head()"
      ],
      "metadata": {
        "id": "eXq3re1XKAtD",
        "colab": {
          "base_uri": "https://localhost:8080/",
          "height": 206
        },
        "outputId": "758f521c-3c71-42b6-fd14-f15f57c601a5"
      },
      "execution_count": null,
      "outputs": [
        {
          "output_type": "execute_result",
          "data": {
            "text/plain": [
              "                  Date     Open     High      Low    Close       Vol  \\\n",
              "0  2020-01-03 08:00:00  6244.33  6607.39  6244.33  6581.57  2.541087   \n",
              "1  2020-01-03 12:00:00  6552.79  6581.57  6494.83  6505.82  0.202788   \n",
              "2  2020-01-03 16:00:00  6608.59  6608.59  6542.05  6550.23   0.30663   \n",
              "3  2020-01-03 20:00:00  6567.81  6568.73  6516.32  6568.73  0.508475   \n",
              "4  2020-01-04 00:00:00  6558.96  6559.15   6533.6   6533.6  0.084964   \n",
              "\n",
              "  quote_asset_volume num_trades taker_buy_base_asset_volume  \\\n",
              "0     16670.12619614         74                  1.26971300   \n",
              "1      1323.44333801         17                  0.08147500   \n",
              "2      2012.00561838         15                  0.25996500   \n",
              "3      3329.90744696         18                  0.21038800   \n",
              "4       556.00430380         10                  0.01469900   \n",
              "\n",
              "  taker_buy_quote_asset_volume  \n",
              "0                8355.36962710  \n",
              "1                 530.76692799  \n",
              "2                1705.54681898  \n",
              "3                1377.84651950  \n",
              "4                  96.30254388  "
            ],
            "text/html": [
              "\n",
              "  <div id=\"df-e5c68d50-ae1a-4a5b-a43c-b15272d7ab87\">\n",
              "    <div class=\"colab-df-container\">\n",
              "      <div>\n",
              "<style scoped>\n",
              "    .dataframe tbody tr th:only-of-type {\n",
              "        vertical-align: middle;\n",
              "    }\n",
              "\n",
              "    .dataframe tbody tr th {\n",
              "        vertical-align: top;\n",
              "    }\n",
              "\n",
              "    .dataframe thead th {\n",
              "        text-align: right;\n",
              "    }\n",
              "</style>\n",
              "<table border=\"1\" class=\"dataframe\">\n",
              "  <thead>\n",
              "    <tr style=\"text-align: right;\">\n",
              "      <th></th>\n",
              "      <th>Date</th>\n",
              "      <th>Open</th>\n",
              "      <th>High</th>\n",
              "      <th>Low</th>\n",
              "      <th>Close</th>\n",
              "      <th>Vol</th>\n",
              "      <th>quote_asset_volume</th>\n",
              "      <th>num_trades</th>\n",
              "      <th>taker_buy_base_asset_volume</th>\n",
              "      <th>taker_buy_quote_asset_volume</th>\n",
              "    </tr>\n",
              "  </thead>\n",
              "  <tbody>\n",
              "    <tr>\n",
              "      <th>0</th>\n",
              "      <td>2020-01-03 08:00:00</td>\n",
              "      <td>6244.33</td>\n",
              "      <td>6607.39</td>\n",
              "      <td>6244.33</td>\n",
              "      <td>6581.57</td>\n",
              "      <td>2.541087</td>\n",
              "      <td>16670.12619614</td>\n",
              "      <td>74</td>\n",
              "      <td>1.26971300</td>\n",
              "      <td>8355.36962710</td>\n",
              "    </tr>\n",
              "    <tr>\n",
              "      <th>1</th>\n",
              "      <td>2020-01-03 12:00:00</td>\n",
              "      <td>6552.79</td>\n",
              "      <td>6581.57</td>\n",
              "      <td>6494.83</td>\n",
              "      <td>6505.82</td>\n",
              "      <td>0.202788</td>\n",
              "      <td>1323.44333801</td>\n",
              "      <td>17</td>\n",
              "      <td>0.08147500</td>\n",
              "      <td>530.76692799</td>\n",
              "    </tr>\n",
              "    <tr>\n",
              "      <th>2</th>\n",
              "      <td>2020-01-03 16:00:00</td>\n",
              "      <td>6608.59</td>\n",
              "      <td>6608.59</td>\n",
              "      <td>6542.05</td>\n",
              "      <td>6550.23</td>\n",
              "      <td>0.30663</td>\n",
              "      <td>2012.00561838</td>\n",
              "      <td>15</td>\n",
              "      <td>0.25996500</td>\n",
              "      <td>1705.54681898</td>\n",
              "    </tr>\n",
              "    <tr>\n",
              "      <th>3</th>\n",
              "      <td>2020-01-03 20:00:00</td>\n",
              "      <td>6567.81</td>\n",
              "      <td>6568.73</td>\n",
              "      <td>6516.32</td>\n",
              "      <td>6568.73</td>\n",
              "      <td>0.508475</td>\n",
              "      <td>3329.90744696</td>\n",
              "      <td>18</td>\n",
              "      <td>0.21038800</td>\n",
              "      <td>1377.84651950</td>\n",
              "    </tr>\n",
              "    <tr>\n",
              "      <th>4</th>\n",
              "      <td>2020-01-04 00:00:00</td>\n",
              "      <td>6558.96</td>\n",
              "      <td>6559.15</td>\n",
              "      <td>6533.6</td>\n",
              "      <td>6533.6</td>\n",
              "      <td>0.084964</td>\n",
              "      <td>556.00430380</td>\n",
              "      <td>10</td>\n",
              "      <td>0.01469900</td>\n",
              "      <td>96.30254388</td>\n",
              "    </tr>\n",
              "  </tbody>\n",
              "</table>\n",
              "</div>\n",
              "      <button class=\"colab-df-convert\" onclick=\"convertToInteractive('df-e5c68d50-ae1a-4a5b-a43c-b15272d7ab87')\"\n",
              "              title=\"Convert this dataframe to an interactive table.\"\n",
              "              style=\"display:none;\">\n",
              "        \n",
              "  <svg xmlns=\"http://www.w3.org/2000/svg\" height=\"24px\"viewBox=\"0 0 24 24\"\n",
              "       width=\"24px\">\n",
              "    <path d=\"M0 0h24v24H0V0z\" fill=\"none\"/>\n",
              "    <path d=\"M18.56 5.44l.94 2.06.94-2.06 2.06-.94-2.06-.94-.94-2.06-.94 2.06-2.06.94zm-11 1L8.5 8.5l.94-2.06 2.06-.94-2.06-.94L8.5 2.5l-.94 2.06-2.06.94zm10 10l.94 2.06.94-2.06 2.06-.94-2.06-.94-.94-2.06-.94 2.06-2.06.94z\"/><path d=\"M17.41 7.96l-1.37-1.37c-.4-.4-.92-.59-1.43-.59-.52 0-1.04.2-1.43.59L10.3 9.45l-7.72 7.72c-.78.78-.78 2.05 0 2.83L4 21.41c.39.39.9.59 1.41.59.51 0 1.02-.2 1.41-.59l7.78-7.78 2.81-2.81c.8-.78.8-2.07 0-2.86zM5.41 20L4 18.59l7.72-7.72 1.47 1.35L5.41 20z\"/>\n",
              "  </svg>\n",
              "      </button>\n",
              "      \n",
              "  <style>\n",
              "    .colab-df-container {\n",
              "      display:flex;\n",
              "      flex-wrap:wrap;\n",
              "      gap: 12px;\n",
              "    }\n",
              "\n",
              "    .colab-df-convert {\n",
              "      background-color: #E8F0FE;\n",
              "      border: none;\n",
              "      border-radius: 50%;\n",
              "      cursor: pointer;\n",
              "      display: none;\n",
              "      fill: #1967D2;\n",
              "      height: 32px;\n",
              "      padding: 0 0 0 0;\n",
              "      width: 32px;\n",
              "    }\n",
              "\n",
              "    .colab-df-convert:hover {\n",
              "      background-color: #E2EBFA;\n",
              "      box-shadow: 0px 1px 2px rgba(60, 64, 67, 0.3), 0px 1px 3px 1px rgba(60, 64, 67, 0.15);\n",
              "      fill: #174EA6;\n",
              "    }\n",
              "\n",
              "    [theme=dark] .colab-df-convert {\n",
              "      background-color: #3B4455;\n",
              "      fill: #D2E3FC;\n",
              "    }\n",
              "\n",
              "    [theme=dark] .colab-df-convert:hover {\n",
              "      background-color: #434B5C;\n",
              "      box-shadow: 0px 1px 3px 1px rgba(0, 0, 0, 0.15);\n",
              "      filter: drop-shadow(0px 1px 2px rgba(0, 0, 0, 0.3));\n",
              "      fill: #FFFFFF;\n",
              "    }\n",
              "  </style>\n",
              "\n",
              "      <script>\n",
              "        const buttonEl =\n",
              "          document.querySelector('#df-e5c68d50-ae1a-4a5b-a43c-b15272d7ab87 button.colab-df-convert');\n",
              "        buttonEl.style.display =\n",
              "          google.colab.kernel.accessAllowed ? 'block' : 'none';\n",
              "\n",
              "        async function convertToInteractive(key) {\n",
              "          const element = document.querySelector('#df-e5c68d50-ae1a-4a5b-a43c-b15272d7ab87');\n",
              "          const dataTable =\n",
              "            await google.colab.kernel.invokeFunction('convertToInteractive',\n",
              "                                                     [key], {});\n",
              "          if (!dataTable) return;\n",
              "\n",
              "          const docLinkHtml = 'Like what you see? Visit the ' +\n",
              "            '<a target=\"_blank\" href=https://colab.research.google.com/notebooks/data_table.ipynb>data table notebook</a>'\n",
              "            + ' to learn more about interactive tables.';\n",
              "          element.innerHTML = '';\n",
              "          dataTable['output_type'] = 'display_data';\n",
              "          await google.colab.output.renderOutput(dataTable, element);\n",
              "          const docLink = document.createElement('div');\n",
              "          docLink.innerHTML = docLinkHtml;\n",
              "          element.appendChild(docLink);\n",
              "        }\n",
              "      </script>\n",
              "    </div>\n",
              "  </div>\n",
              "  "
            ]
          },
          "metadata": {},
          "execution_count": 23
        }
      ]
    },
    {
      "cell_type": "code",
      "source": [
        "print(\"Shape: \", data.shape)"
      ],
      "metadata": {
        "colab": {
          "base_uri": "https://localhost:8080/"
        },
        "id": "3Q4QjyBILhsr",
        "outputId": "4914609f-80b9-431a-9f53-2a13e9519303"
      },
      "execution_count": null,
      "outputs": [
        {
          "output_type": "stream",
          "name": "stdout",
          "text": [
            "Shape:  (4557, 10)\n"
          ]
        }
      ]
    },
    {
      "cell_type": "markdown",
      "source": [
        "3.1 Convertimos a numerico el dataset."
      ],
      "metadata": {
        "id": "Hg6jRi4JL3lu"
      }
    },
    {
      "cell_type": "code",
      "source": [
        "data[[\"Open\",\"High\", \"Low\", \"Close\", \"Vol\",\"quote_asset_volume\", \"num_trades\", \"taker_buy_base_asset_volume\", \"taker_buy_quote_asset_volume\"]] = data[[\"Open\",\"High\", \"Low\", \"Close\", \"Vol\",\"quote_asset_volume\", \"num_trades\", \"taker_buy_base_asset_volume\", \"taker_buy_quote_asset_volume\"]].apply(pd.to_numeric)"
      ],
      "metadata": {
        "id": "8muGXDC1MNr8"
      },
      "execution_count": null,
      "outputs": []
    },
    {
      "cell_type": "markdown",
      "source": [
        "4. Definimos las variables de las bollinger bands ya que son necesarias para la longitud del dataset, eliminaremos las filas que sean de una fecha menor, es decir las primeras."
      ],
      "metadata": {
        "id": "C1qdDLz4LmZL"
      }
    },
    {
      "cell_type": "code",
      "source": [
        "m = 12\n",
        "smoothing = 2"
      ],
      "metadata": {
        "id": "Vooing6zMpKK"
      },
      "execution_count": null,
      "outputs": []
    },
    {
      "cell_type": "markdown",
      "source": [
        "5. Calculamos RSI"
      ],
      "metadata": {
        "id": "1a7WjGD2MwTh"
      }
    },
    {
      "cell_type": "code",
      "source": [
        "rsi_BTC = rsi(data, 5)\n",
        "rsi_BTC = rsi_BTC[(5 + m):len(rsi_BTC)]\n",
        "rsi_BTC = rsi_BTC.reset_index(drop=True)\n",
        "len(rsi_BTC)"
      ],
      "metadata": {
        "id": "B-swJV9vMvJ7",
        "colab": {
          "base_uri": "https://localhost:8080/"
        },
        "outputId": "0fed9491-eda1-4b24-c6a0-4ac280ff93f8"
      },
      "execution_count": null,
      "outputs": [
        {
          "output_type": "execute_result",
          "data": {
            "text/plain": [
              "4540"
            ]
          },
          "metadata": {},
          "execution_count": 27
        }
      ]
    },
    {
      "cell_type": "markdown",
      "source": [
        "Mostramos las primeras filas de RSI."
      ],
      "metadata": {
        "id": "iUK_QgF6NUVQ"
      }
    },
    {
      "cell_type": "code",
      "source": [
        "plt.ylabel('RSI')\n",
        "plt.plot(rsi_BTC[0:250], label=\"RSI\")\n",
        "plt.legend()\n",
        "plt.title(\"RSI [0:250]\")\n",
        "plt.show()"
      ],
      "metadata": {
        "colab": {
          "base_uri": "https://localhost:8080/",
          "height": 281
        },
        "id": "wnrblzxZNfMI",
        "outputId": "a845c2db-22d5-421b-ad3a-2671b76172ea"
      },
      "execution_count": null,
      "outputs": [
        {
          "output_type": "display_data",
          "data": {
            "text/plain": [
              "<Figure size 432x288 with 1 Axes>"
            ],
            "image/png": "[encoded data removed]"
          },
          "metadata": {
            "needs_background": "light"
          }
        }
      ]
    },
    {
      "cell_type": "markdown",
      "source": [
        "6. Calculamos las Bollinger Bands y le quitamos las 14 filas eliminadas en el RSI y a data le restamos lo del RSI y de las BOLL."
      ],
      "metadata": {
        "id": "JJEyfM86N59m"
      }
    },
    {
      "cell_type": "code",
      "source": [
        "b_u, b_d = bollingerBands(data, m, smoothing)\n",
        "b_u = b_u[14:len(b_u)]\n",
        "b_d = b_d[14:len(b_d)]\n",
        "\n",
        "data = data[(14 + m):len(data)]\n",
        "data = data.reset_index(drop=True)"
      ],
      "metadata": {
        "id": "INWxFqRhN--4"
      },
      "execution_count": null,
      "outputs": []
    },
    {
      "cell_type": "markdown",
      "source": [
        "Mostramos las primeras filas de las Bollinger Bands."
      ],
      "metadata": {
        "id": "-5nziy4DORwZ"
      }
    },
    {
      "cell_type": "code",
      "source": [
        "plt.ylabel('Price')\n",
        "plt.plot(np.arange(0,200), b_d[0:200], label=\"up\")\n",
        "plt.plot(np.arange(0,200), b_u[0:200], label=\"down\")\n",
        "plt.plot(data[\"Close\"][0:200], label=\"price\")\n",
        "plt.legend()\n",
        "plt.title('Bollinger bands for first 200')\n",
        "plt.show()"
      ],
      "metadata": {
        "colab": {
          "base_uri": "https://localhost:8080/",
          "height": 281
        },
        "id": "xuwV-EyBOfyF",
        "outputId": "aff32e23-0a73-44c9-fae4-c50a5ed90dbd"
      },
      "execution_count": null,
      "outputs": [
        {
          "output_type": "display_data",
          "data": {
            "text/plain": [
              "<Figure size 432x288 with 1 Axes>"
            ],
            "image/png": "[encoded data removed]"
          },
          "metadata": {
            "needs_background": "light"
          }
        }
      ]
    },
    {
      "cell_type": "markdown",
      "source": [
        "7. Comenzamos la estrategia.\n",
        "\n",
        "Cuando choca la banda del precio(Verde) con la banda de abajo(Azul) esperamos a que vuelvan a chocar y cuando lo hagan miramos si el RSI nos da el visto bueno para invertir, entonces compramos y vendemos cuando choque arriba."
      ],
      "metadata": {
        "id": "o-Qrb_2rP1aj"
      }
    },
    {
      "cell_type": "code",
      "source": [
        "buys_idx = []\n",
        "sells_idx = []\n",
        "\n",
        "prev_price = -1\n",
        "d_band = False\n",
        "u_band = False\n",
        "buy = False\n",
        "d_band2 = False\n",
        "sell = False\n",
        "res = 0\n",
        "percentages = []\n",
        "            \n",
        "            \n",
        "for i in range(0, len(data)):\n",
        "  #SI CRUZA CON LA BANDA DE ABAJO Y NO SE HA COMPRADO ACTIVA D_BAND\n",
        "  if data.iloc[i][\"Close\"] < b_d[i] and d_band == False and u_band == False and buy == False:\n",
        "    d_band = True\n",
        "                    \n",
        "  #COMPRA SI VUELVE A CRUZAR CON LA BANDA DE ABAJO Y D_BAND ESTA ACTIVADO COMPRA\n",
        "  elif data.iloc[i][\"Close\"] > b_d[i] and d_band == True and buy == False:\n",
        "    prev_price = data.iloc[i][\"Close\"]\n",
        "    buy = True\n",
        "    d_band = False\n",
        "    sell = False\n",
        "    buys_idx.append(i)\n",
        "                    \n",
        "  #SI SE HA COMPRADO Y CRUZA ARRIBA ACTIVA U_BAND\n",
        "  elif data.iloc[i][\"Close\"] > b_u[i] and u_band == False and d_band == False and buy == True:\n",
        "    u_band = True\n",
        "                    \n",
        "  #SI CRUZA CON LA BANDA DE ARRIBA DE NUEVO VENDE\n",
        "  elif data.iloc[i][\"Close\"] < b_u[i] and u_band == True and buy == True and sell == False:\n",
        "    res = res + ((data.iloc[i][\"Close\"] - prev_price) / prev_price)\n",
        "    #CALCULAMOS LA DIFERENCIA ENTRE COMPRA Y VENTA\n",
        "    percentages.append((data.iloc[i][\"Close\"] / prev_price))\n",
        "    buy = False\n",
        "    u_band = False\n",
        "    sell = True\n",
        "    prev_price = -1\n",
        "    sells_idx.append(i)"
      ],
      "metadata": {
        "id": "m0VqoZQPQhw1"
      },
      "execution_count": null,
      "outputs": []
    },
    {
      "cell_type": "markdown",
      "source": [
        "Imprimimos las compras y ventas, compras en rojo ventas en azul"
      ],
      "metadata": {
        "id": "pEvsrfCkUf3t"
      }
    },
    {
      "cell_type": "code",
      "source": [
        "def plotBuysAndSells(b_d, b_u, price, name, m, smoothing, buys_idx, sells_idx):\n",
        "    \n",
        "    margin_d = 0\n",
        "    margin_u = 300\n",
        "    \n",
        "    buys = []\n",
        "    buys_p = []\n",
        "    for i in range(0, len(buys_idx)):\n",
        "        if buys_idx[i] >= margin_d and buys_idx[i]<=margin_u:\n",
        "            buys.append(price[buys_idx[i]])\n",
        "            buys_p.append(buys_idx[i])\n",
        "    sells = []\n",
        "    sells_p = []\n",
        "    for i in range(0, len(sells_idx)):\n",
        "        if sells_idx[i] >= margin_d and sells_idx[i]<=margin_u:\n",
        "            sells.append(price[sells_idx[i]])\n",
        "            sells_p.append(sells_idx[i])\n",
        "    \n",
        "    \n",
        "    \n",
        "    plt.ylabel('Price')\n",
        "    plt.plot(np.arange(margin_d,margin_u), b_u[margin_d:margin_u], label=\"up\")\n",
        "    plt.plot(np.arange(margin_d,margin_u), b_d[margin_d:margin_u], label=\"down\")\n",
        "    plt.plot(price[margin_d:margin_u], label=\"price\")\n",
        "    \n",
        "    \n",
        "    plt.scatter(buys_p, buys,s = 30, marker='o', c=\"red\")\n",
        "    plt.scatter(sells_p, sells,s=30, marker='o', c=\"blue\")\n",
        "    \n",
        "    plt.legend()\n",
        "    plt.title('Bollinger bands for first 200 [' + name + '] m = ' + str(m) + \", smoothing = \"+ str(smoothing))\n",
        "    plt.show()\n",
        "\n",
        "\n",
        "plotBuysAndSells(b_d, b_u, data[\"Close\"], \"BTC\", m, smoothing, buys_idx, sells_idx)"
      ],
      "metadata": {
        "colab": {
          "base_uri": "https://localhost:8080/",
          "height": 281
        },
        "id": "1Ki4df1YUnWk",
        "outputId": "8ae483ea-3069-4551-878c-f80b7974d78c"
      },
      "execution_count": null,
      "outputs": [
        {
          "output_type": "display_data",
          "data": {
            "text/plain": [
              "<Figure size 432x288 with 1 Axes>"
            ],
            "image/png": "[encoded data removed]"
          },
          "metadata": {
            "needs_background": "light"
          }
        }
      ]
    },
    {
      "cell_type": "markdown",
      "source": [
        "8. Calculamos los resultados obtenidos."
      ],
      "metadata": {
        "id": "qOjh76dzT7Ep"
      }
    },
    {
      "cell_type": "code",
      "source": [
        "unidad = 1\n",
        "for i in range(0, len(percentages)):\n",
        "  unidad = unidad * percentages[i]\n",
        "\n",
        "print(\"m = \",m, \"| smoothing = \",  smoothing, \"| Unidad: \", unidad)"
      ],
      "metadata": {
        "colab": {
          "base_uri": "https://localhost:8080/"
        },
        "id": "UtHLHx8eUAEt",
        "outputId": "ed821a51-4e14-42eb-e4b4-27713d7387fd"
      },
      "execution_count": null,
      "outputs": [
        {
          "output_type": "stream",
          "name": "stdout",
          "text": [
            "m =  12 | smoothing =  2 | Unidad:  2.349324763017155\n"
          ]
        }
      ]
    },
    {
      "cell_type": "code",
      "source": [
        "unidad = 500\n",
        "for i in range(0, len(percentages)):\n",
        "  unidad = unidad * percentages[i] - 0.40;\n",
        "\n",
        "print(\"m = \",m, \"| smoothing = \",  smoothing, \"| Unidad: \", unidad)"
      ],
      "metadata": {
        "colab": {
          "base_uri": "https://localhost:8080/"
        },
        "id": "uBSTWxTn8AyA",
        "outputId": "b6672ccf-c22b-4bd2-b3df-7a6ba06b0dd7"
      },
      "execution_count": null,
      "outputs": [
        {
          "output_type": "stream",
          "name": "stdout",
          "text": [
            "m =  12 | smoothing =  2 | Unidad:  1119.1795876100164\n"
          ]
        }
      ]
    },
    {
      "cell_type": "code",
      "source": [
        ""
      ],
      "metadata": {
        "id": "IFyQv4on8Awk"
      },
      "execution_count": null,
      "outputs": []
    }
  ]
}